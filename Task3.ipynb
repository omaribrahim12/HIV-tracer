{
 "cells": [
  {
   "cell_type": "code",
   "execution_count": 35,
   "metadata": {},
   "outputs": [],
   "source": [
    "#Read libraries\n",
    "import pandas as pd\n",
    "import numpy as np\n",
    "import matplotlib.pyplot as plt\n",
    "import matplotlib as mpl"
   ]
  },
  {
   "cell_type": "code",
   "execution_count": 36,
   "metadata": {},
   "outputs": [
    {
     "data": {
      "text/html": [
       "<div>\n",
       "<style scoped>\n",
       "    .dataframe tbody tr th:only-of-type {\n",
       "        vertical-align: middle;\n",
       "    }\n",
       "\n",
       "    .dataframe tbody tr th {\n",
       "        vertical-align: top;\n",
       "    }\n",
       "\n",
       "    .dataframe thead th {\n",
       "        text-align: right;\n",
       "    }\n",
       "</style>\n",
       "<table border=\"1\" class=\"dataframe\">\n",
       "  <thead>\n",
       "    <tr style=\"text-align: right;\">\n",
       "      <th></th>\n",
       "      <th>Image number</th>\n",
       "      <th>Bifurcation number</th>\n",
       "      <th>Artery (1)/ Vein (2)</th>\n",
       "      <th>Alpha</th>\n",
       "      <th>Beta</th>\n",
       "      <th>Lambda</th>\n",
       "      <th>Lambda1</th>\n",
       "      <th>Lambda2</th>\n",
       "      <th>Participant Condition</th>\n",
       "    </tr>\n",
       "  </thead>\n",
       "  <tbody>\n",
       "    <tr>\n",
       "      <th>0</th>\n",
       "      <td>1</td>\n",
       "      <td>1</td>\n",
       "      <td>1</td>\n",
       "      <td>0.600099</td>\n",
       "      <td>2.141185</td>\n",
       "      <td>0.774660</td>\n",
       "      <td>1.156788</td>\n",
       "      <td>0.896118</td>\n",
       "      <td>Patient</td>\n",
       "    </tr>\n",
       "    <tr>\n",
       "      <th>1</th>\n",
       "      <td>1</td>\n",
       "      <td>2</td>\n",
       "      <td>1</td>\n",
       "      <td>0.822612</td>\n",
       "      <td>1.835858</td>\n",
       "      <td>0.906980</td>\n",
       "      <td>1.003627</td>\n",
       "      <td>0.910269</td>\n",
       "      <td>Patient</td>\n",
       "    </tr>\n",
       "    <tr>\n",
       "      <th>2</th>\n",
       "      <td>1</td>\n",
       "      <td>3</td>\n",
       "      <td>1</td>\n",
       "      <td>0.862658</td>\n",
       "      <td>1.770032</td>\n",
       "      <td>0.928794</td>\n",
       "      <td>0.974819</td>\n",
       "      <td>0.905406</td>\n",
       "      <td>Patient</td>\n",
       "    </tr>\n",
       "    <tr>\n",
       "      <th>3</th>\n",
       "      <td>1</td>\n",
       "      <td>4</td>\n",
       "      <td>1</td>\n",
       "      <td>0.807950</td>\n",
       "      <td>1.373153</td>\n",
       "      <td>0.898860</td>\n",
       "      <td>0.871498</td>\n",
       "      <td>0.783355</td>\n",
       "      <td>Patient</td>\n",
       "    </tr>\n",
       "    <tr>\n",
       "      <th>4</th>\n",
       "      <td>1</td>\n",
       "      <td>5</td>\n",
       "      <td>1</td>\n",
       "      <td>0.742544</td>\n",
       "      <td>1.332164</td>\n",
       "      <td>0.861710</td>\n",
       "      <td>0.874353</td>\n",
       "      <td>0.753439</td>\n",
       "      <td>Patient</td>\n",
       "    </tr>\n",
       "    <tr>\n",
       "      <th>...</th>\n",
       "      <td>...</td>\n",
       "      <td>...</td>\n",
       "      <td>...</td>\n",
       "      <td>...</td>\n",
       "      <td>...</td>\n",
       "      <td>...</td>\n",
       "      <td>...</td>\n",
       "      <td>...</td>\n",
       "      <td>...</td>\n",
       "    </tr>\n",
       "    <tr>\n",
       "      <th>3209</th>\n",
       "      <td>203</td>\n",
       "      <td>3</td>\n",
       "      <td>2</td>\n",
       "      <td>0.180108</td>\n",
       "      <td>1.133420</td>\n",
       "      <td>0.424391</td>\n",
       "      <td>0.980019</td>\n",
       "      <td>0.415912</td>\n",
       "      <td>Patient</td>\n",
       "    </tr>\n",
       "    <tr>\n",
       "      <th>3210</th>\n",
       "      <td>203</td>\n",
       "      <td>4</td>\n",
       "      <td>2</td>\n",
       "      <td>0.791548</td>\n",
       "      <td>1.386333</td>\n",
       "      <td>0.889690</td>\n",
       "      <td>0.879670</td>\n",
       "      <td>0.782633</td>\n",
       "      <td>Patient</td>\n",
       "    </tr>\n",
       "    <tr>\n",
       "      <th>3211</th>\n",
       "      <td>203</td>\n",
       "      <td>5</td>\n",
       "      <td>2</td>\n",
       "      <td>0.232715</td>\n",
       "      <td>1.190652</td>\n",
       "      <td>0.482406</td>\n",
       "      <td>0.982791</td>\n",
       "      <td>0.474104</td>\n",
       "      <td>Patient</td>\n",
       "    </tr>\n",
       "    <tr>\n",
       "      <th>3212</th>\n",
       "      <td>203</td>\n",
       "      <td>6</td>\n",
       "      <td>2</td>\n",
       "      <td>0.746027</td>\n",
       "      <td>1.183473</td>\n",
       "      <td>0.863729</td>\n",
       "      <td>0.823292</td>\n",
       "      <td>0.711101</td>\n",
       "      <td>Patient</td>\n",
       "    </tr>\n",
       "    <tr>\n",
       "      <th>3213</th>\n",
       "      <td>203</td>\n",
       "      <td>7</td>\n",
       "      <td>2</td>\n",
       "      <td>0.668215</td>\n",
       "      <td>1.781838</td>\n",
       "      <td>0.817444</td>\n",
       "      <td>1.033494</td>\n",
       "      <td>0.844824</td>\n",
       "      <td>Patient</td>\n",
       "    </tr>\n",
       "  </tbody>\n",
       "</table>\n",
       "<p>3214 rows × 9 columns</p>\n",
       "</div>"
      ],
      "text/plain": [
       "      Image number  Bifurcation number  Artery (1)/ Vein (2)     Alpha  \\\n",
       "0                1                   1                     1  0.600099   \n",
       "1                1                   2                     1  0.822612   \n",
       "2                1                   3                     1  0.862658   \n",
       "3                1                   4                     1  0.807950   \n",
       "4                1                   5                     1  0.742544   \n",
       "...            ...                 ...                   ...       ...   \n",
       "3209           203                   3                     2  0.180108   \n",
       "3210           203                   4                     2  0.791548   \n",
       "3211           203                   5                     2  0.232715   \n",
       "3212           203                   6                     2  0.746027   \n",
       "3213           203                   7                     2  0.668215   \n",
       "\n",
       "          Beta    Lambda   Lambda1   Lambda2 Participant Condition  \n",
       "0     2.141185  0.774660  1.156788  0.896118               Patient  \n",
       "1     1.835858  0.906980  1.003627  0.910269               Patient  \n",
       "2     1.770032  0.928794  0.974819  0.905406               Patient  \n",
       "3     1.373153  0.898860  0.871498  0.783355               Patient  \n",
       "4     1.332164  0.861710  0.874353  0.753439               Patient  \n",
       "...        ...       ...       ...       ...                   ...  \n",
       "3209  1.133420  0.424391  0.980019  0.415912               Patient  \n",
       "3210  1.386333  0.889690  0.879670  0.782633               Patient  \n",
       "3211  1.190652  0.482406  0.982791  0.474104               Patient  \n",
       "3212  1.183473  0.863729  0.823292  0.711101               Patient  \n",
       "3213  1.781838  0.817444  1.033494  0.844824               Patient  \n",
       "\n",
       "[3214 rows x 9 columns]"
      ]
     },
     "execution_count": 36,
     "metadata": {},
     "output_type": "execute_result"
    }
   ],
   "source": [
    "data_set = pd.read_csv('Task3 - dataset - HIV RVG.csv')\n",
    "data_set"
   ]
  },
  {
   "cell_type": "markdown",
   "metadata": {},
   "source": [
    "Section 3.1: Data import, summary, pre-processing and visualisation"
   ]
  },
  {
   "cell_type": "code",
   "execution_count": 56,
   "metadata": {},
   "outputs": [
    {
     "data": {
      "text/html": [
       "<div>\n",
       "<style scoped>\n",
       "    .dataframe tbody tr th:only-of-type {\n",
       "        vertical-align: middle;\n",
       "    }\n",
       "\n",
       "    .dataframe tbody tr th {\n",
       "        vertical-align: top;\n",
       "    }\n",
       "\n",
       "    .dataframe thead th {\n",
       "        text-align: right;\n",
       "    }\n",
       "</style>\n",
       "<table border=\"1\" class=\"dataframe\">\n",
       "  <thead>\n",
       "    <tr style=\"text-align: right;\">\n",
       "      <th></th>\n",
       "      <th>Image number</th>\n",
       "      <th>Bifurcation number</th>\n",
       "      <th>Artery (1)/ Vein (2)</th>\n",
       "      <th>Alpha</th>\n",
       "      <th>Beta</th>\n",
       "      <th>Lambda</th>\n",
       "      <th>Lambda1</th>\n",
       "      <th>Lambda2</th>\n",
       "    </tr>\n",
       "    <tr>\n",
       "      <th>Participant Condition</th>\n",
       "      <th></th>\n",
       "      <th></th>\n",
       "      <th></th>\n",
       "      <th></th>\n",
       "      <th></th>\n",
       "      <th></th>\n",
       "      <th></th>\n",
       "      <th></th>\n",
       "    </tr>\n",
       "  </thead>\n",
       "  <tbody>\n",
       "    <tr>\n",
       "      <th>Control</th>\n",
       "      <td>53.059494</td>\n",
       "      <td>4.027929</td>\n",
       "      <td>0.497380</td>\n",
       "      <td>0.262763</td>\n",
       "      <td>0.377500</td>\n",
       "      <td>0.171403</td>\n",
       "      <td>0.128047</td>\n",
       "      <td>0.156512</td>\n",
       "    </tr>\n",
       "    <tr>\n",
       "      <th>Patient</th>\n",
       "      <td>57.334283</td>\n",
       "      <td>4.172325</td>\n",
       "      <td>0.491631</td>\n",
       "      <td>0.267580</td>\n",
       "      <td>0.396982</td>\n",
       "      <td>0.174199</td>\n",
       "      <td>0.132727</td>\n",
       "      <td>0.161678</td>\n",
       "    </tr>\n",
       "  </tbody>\n",
       "</table>\n",
       "</div>"
      ],
      "text/plain": [
       "                       Image number  Bifurcation number  Artery (1)/ Vein (2)  \\\n",
       "Participant Condition                                                           \n",
       "Control                   53.059494            4.027929              0.497380   \n",
       "Patient                   57.334283            4.172325              0.491631   \n",
       "\n",
       "                          Alpha      Beta    Lambda   Lambda1   Lambda2  \n",
       "Participant Condition                                                    \n",
       "Control                0.262763  0.377500  0.171403  0.128047  0.156512  \n",
       "Patient                0.267580  0.396982  0.174199  0.132727  0.161678  "
      ]
     },
     "execution_count": 56,
     "metadata": {},
     "output_type": "execute_result"
    }
   ],
   "source": [
    "data_set.groupby(\"Participant Condition\").std() # standard deviations"
   ]
  },
  {
   "cell_type": "code",
   "execution_count": 57,
   "metadata": {},
   "outputs": [
    {
     "data": {
      "text/html": [
       "<div>\n",
       "<style scoped>\n",
       "    .dataframe tbody tr th:only-of-type {\n",
       "        vertical-align: middle;\n",
       "    }\n",
       "\n",
       "    .dataframe tbody tr th {\n",
       "        vertical-align: top;\n",
       "    }\n",
       "\n",
       "    .dataframe thead th {\n",
       "        text-align: right;\n",
       "    }\n",
       "</style>\n",
       "<table border=\"1\" class=\"dataframe\">\n",
       "  <thead>\n",
       "    <tr style=\"text-align: right;\">\n",
       "      <th></th>\n",
       "      <th>Image number</th>\n",
       "      <th>Bifurcation number</th>\n",
       "      <th>Artery (1)/ Vein (2)</th>\n",
       "      <th>Alpha</th>\n",
       "      <th>Beta</th>\n",
       "      <th>Lambda</th>\n",
       "      <th>Lambda1</th>\n",
       "      <th>Lambda2</th>\n",
       "    </tr>\n",
       "    <tr>\n",
       "      <th>Participant Condition</th>\n",
       "      <th></th>\n",
       "      <th></th>\n",
       "      <th></th>\n",
       "      <th></th>\n",
       "      <th></th>\n",
       "      <th></th>\n",
       "      <th></th>\n",
       "      <th></th>\n",
       "    </tr>\n",
       "  </thead>\n",
       "  <tbody>\n",
       "    <tr>\n",
       "      <th>Control</th>\n",
       "      <td>128.557867</td>\n",
       "      <td>6.252926</td>\n",
       "      <td>1.552666</td>\n",
       "      <td>0.615071</td>\n",
       "      <td>1.558109</td>\n",
       "      <td>0.765318</td>\n",
       "      <td>0.982531</td>\n",
       "      <td>0.742884</td>\n",
       "    </tr>\n",
       "    <tr>\n",
       "      <th>Patient</th>\n",
       "      <td>87.897971</td>\n",
       "      <td>6.190931</td>\n",
       "      <td>1.591885</td>\n",
       "      <td>0.615520</td>\n",
       "      <td>1.554242</td>\n",
       "      <td>0.764979</td>\n",
       "      <td>0.980486</td>\n",
       "      <td>0.741053</td>\n",
       "    </tr>\n",
       "  </tbody>\n",
       "</table>\n",
       "</div>"
      ],
      "text/plain": [
       "                       Image number  Bifurcation number  Artery (1)/ Vein (2)  \\\n",
       "Participant Condition                                                           \n",
       "Control                  128.557867            6.252926              1.552666   \n",
       "Patient                   87.897971            6.190931              1.591885   \n",
       "\n",
       "                          Alpha      Beta    Lambda   Lambda1   Lambda2  \n",
       "Participant Condition                                                    \n",
       "Control                0.615071  1.558109  0.765318  0.982531  0.742884  \n",
       "Patient                0.615520  1.554242  0.764979  0.980486  0.741053  "
      ]
     },
     "execution_count": 57,
     "metadata": {},
     "output_type": "execute_result"
    }
   ],
   "source": [
    "data_set.groupby(\"Participant Condition\").mean() # mean"
   ]
  },
  {
   "cell_type": "code",
   "execution_count": 39,
   "metadata": {},
   "outputs": [
    {
     "data": {
      "text/html": [
       "<div>\n",
       "<style scoped>\n",
       "    .dataframe tbody tr th:only-of-type {\n",
       "        vertical-align: middle;\n",
       "    }\n",
       "\n",
       "    .dataframe tbody tr th {\n",
       "        vertical-align: top;\n",
       "    }\n",
       "\n",
       "    .dataframe thead th {\n",
       "        text-align: right;\n",
       "    }\n",
       "</style>\n",
       "<table border=\"1\" class=\"dataframe\">\n",
       "  <thead>\n",
       "    <tr style=\"text-align: right;\">\n",
       "      <th></th>\n",
       "      <th>Image number</th>\n",
       "      <th>Bifurcation number</th>\n",
       "      <th>Artery (1)/ Vein (2)</th>\n",
       "      <th>Alpha</th>\n",
       "      <th>Beta</th>\n",
       "      <th>Lambda</th>\n",
       "      <th>Lambda1</th>\n",
       "      <th>Lambda2</th>\n",
       "    </tr>\n",
       "    <tr>\n",
       "      <th>Participant Condition</th>\n",
       "      <th></th>\n",
       "      <th></th>\n",
       "      <th></th>\n",
       "      <th></th>\n",
       "      <th></th>\n",
       "      <th></th>\n",
       "      <th></th>\n",
       "      <th></th>\n",
       "    </tr>\n",
       "  </thead>\n",
       "  <tbody>\n",
       "    <tr>\n",
       "      <th>Control</th>\n",
       "      <td>199</td>\n",
       "      <td>20</td>\n",
       "      <td>2</td>\n",
       "      <td>2.356406</td>\n",
       "      <td>3.376731</td>\n",
       "      <td>1.535059</td>\n",
       "      <td>1.456809</td>\n",
       "      <td>1.246102</td>\n",
       "    </tr>\n",
       "    <tr>\n",
       "      <th>Patient</th>\n",
       "      <td>203</td>\n",
       "      <td>25</td>\n",
       "      <td>2</td>\n",
       "      <td>2.350897</td>\n",
       "      <td>3.169293</td>\n",
       "      <td>1.533264</td>\n",
       "      <td>1.467637</td>\n",
       "      <td>1.232208</td>\n",
       "    </tr>\n",
       "  </tbody>\n",
       "</table>\n",
       "</div>"
      ],
      "text/plain": [
       "                       Image number  Bifurcation number  Artery (1)/ Vein (2)  \\\n",
       "Participant Condition                                                           \n",
       "Control                         199                  20                     2   \n",
       "Patient                         203                  25                     2   \n",
       "\n",
       "                          Alpha      Beta    Lambda   Lambda1   Lambda2  \n",
       "Participant Condition                                                    \n",
       "Control                2.356406  3.376731  1.535059  1.456809  1.246102  \n",
       "Patient                2.350897  3.169293  1.533264  1.467637  1.232208  "
      ]
     },
     "execution_count": 39,
     "metadata": {},
     "output_type": "execute_result"
    }
   ],
   "source": [
    "data_set.groupby(\"Participant Condition\").max() #maximum values"
   ]
  },
  {
   "cell_type": "code",
   "execution_count": 52,
   "metadata": {},
   "outputs": [
    {
     "data": {
      "text/html": [
       "<div>\n",
       "<style scoped>\n",
       "    .dataframe tbody tr th:only-of-type {\n",
       "        vertical-align: middle;\n",
       "    }\n",
       "\n",
       "    .dataframe tbody tr th {\n",
       "        vertical-align: top;\n",
       "    }\n",
       "\n",
       "    .dataframe thead th {\n",
       "        text-align: right;\n",
       "    }\n",
       "</style>\n",
       "<table border=\"1\" class=\"dataframe\">\n",
       "  <thead>\n",
       "    <tr style=\"text-align: right;\">\n",
       "      <th></th>\n",
       "      <th>Image number</th>\n",
       "      <th>Bifurcation number</th>\n",
       "      <th>Artery (1)/ Vein (2)</th>\n",
       "      <th>Alpha</th>\n",
       "      <th>Beta</th>\n",
       "      <th>Lambda</th>\n",
       "      <th>Lambda1</th>\n",
       "      <th>Lambda2</th>\n",
       "    </tr>\n",
       "    <tr>\n",
       "      <th>Participant Condition</th>\n",
       "      <th></th>\n",
       "      <th></th>\n",
       "      <th></th>\n",
       "      <th></th>\n",
       "      <th></th>\n",
       "      <th></th>\n",
       "      <th></th>\n",
       "      <th></th>\n",
       "    </tr>\n",
       "  </thead>\n",
       "  <tbody>\n",
       "    <tr>\n",
       "      <th>Control</th>\n",
       "      <td>5</td>\n",
       "      <td>1</td>\n",
       "      <td>1</td>\n",
       "      <td>0.131221</td>\n",
       "      <td>0.392472</td>\n",
       "      <td>0.362244</td>\n",
       "      <td>0.489722</td>\n",
       "      <td>0.368800</td>\n",
       "    </tr>\n",
       "    <tr>\n",
       "      <th>Patient</th>\n",
       "      <td>1</td>\n",
       "      <td>1</td>\n",
       "      <td>1</td>\n",
       "      <td>0.092770</td>\n",
       "      <td>0.283299</td>\n",
       "      <td>0.304582</td>\n",
       "      <td>0.390920</td>\n",
       "      <td>0.309526</td>\n",
       "    </tr>\n",
       "  </tbody>\n",
       "</table>\n",
       "</div>"
      ],
      "text/plain": [
       "                       Image number  Bifurcation number  Artery (1)/ Vein (2)  \\\n",
       "Participant Condition                                                           \n",
       "Control                           5                   1                     1   \n",
       "Patient                           1                   1                     1   \n",
       "\n",
       "                          Alpha      Beta    Lambda   Lambda1   Lambda2  \n",
       "Participant Condition                                                    \n",
       "Control                0.131221  0.392472  0.362244  0.489722  0.368800  \n",
       "Patient                0.092770  0.283299  0.304582  0.390920  0.309526  "
      ]
     },
     "execution_count": 52,
     "metadata": {},
     "output_type": "execute_result"
    }
   ],
   "source": [
    "data_set.groupby(\"Participant Condition\").min() #minimum values "
   ]
  },
  {
   "cell_type": "code",
   "execution_count": 58,
   "metadata": {},
   "outputs": [
    {
     "data": {
      "text/plain": [
       "<AxesSubplot:title={'center':'Alpha'}, xlabel='Participant Condition'>"
      ]
     },
     "execution_count": 58,
     "metadata": {},
     "output_type": "execute_result"
    },
    {
     "data": {
      "image/png": "[encoded data removed]",
      "text/plain": [
       "<Figure size 432x288 with 1 Axes>"
      ]
     },
     "metadata": {
      "needs_background": "light"
     },
     "output_type": "display_data"
    }
   ],
   "source": [
    "data_set.boxplot(by=\"Participant Condition\", column=\"Alpha\") # Box plot which includes Participant Conditioin x axis and Alpha in y axis"
   ]
  },
  {
   "cell_type": "code",
   "execution_count": 67,
   "metadata": {},
   "outputs": [
    {
     "data": {
      "text/plain": [
       "Participant Condition\n",
       "Control    AxesSubplot(0.125,0.125;0.775x0.755)\n",
       "Patient    AxesSubplot(0.125,0.125;0.775x0.755)\n",
       "Name: Beta, dtype: object"
      ]
     },
     "execution_count": 67,
     "metadata": {},
     "output_type": "execute_result"
    },
    {
     "data": {
      "image/png": "[encoded data removed]",
      "text/plain": [
       "<Figure size 432x288 with 1 Axes>"
      ]
     },
     "metadata": {
      "needs_background": "light"
     },
     "output_type": "display_data"
    }
   ],
   "source": [
    "x = data_set.groupby(\"Participant Condition\")  # density plot for the feature Beta \n",
    "x[\"Beta\"].plot.density()"
   ]
  },
  {
   "cell_type": "markdown",
   "metadata": {},
   "source": [
    "Section 3.2 Designing algorithms"
   ]
  },
  {
   "cell_type": "code",
   "execution_count": 45,
   "metadata": {},
   "outputs": [],
   "source": [
    "#Read libraries\n",
    "from sklearn import preprocessing\n",
    "from sklearn.model_selection import train_test_split\n",
    "from sklearn.neural_network import MLPClassifier\n",
    "from sklearn.ensemble import RandomForestClassifier\n",
    "from sklearn.model_selection import cross_val_score\n",
    "from sklearn.metrics import accuracy_score"
   ]
  },
  {
   "cell_type": "code",
   "execution_count": 73,
   "metadata": {},
   "outputs": [],
   "source": [
    "dataset = data_set.values # save all the values in dataset\n",
    "features = dataset[:,1:-1] # choose all the features except the last one which is the results\n",
    "results = dataset[:,-1] # save the last column as the results "
   ]
  },
  {
   "cell_type": "code",
   "execution_count": 70,
   "metadata": {},
   "outputs": [
    {
     "data": {
      "text/plain": [
       "array([[0.32131138, 0.32131138, 0.19281852, ..., 0.24890718, 0.37168908,\n",
       "        0.28793279],\n",
       "       [0.58456712, 0.29228356, 0.24043604, ..., 0.26509527, 0.29334368,\n",
       "        0.26605678],\n",
       "       [0.73832783, 0.24610928, 0.21230821, ..., 0.22858482, 0.23991201,\n",
       "        0.22282884],\n",
       "       ...,\n",
       "       [0.88533471, 0.35413388, 0.04120621, ..., 0.08541813, 0.17401976,\n",
       "        0.08394816],\n",
       "       [0.90570123, 0.30190041, 0.11261297, ..., 0.13038003, 0.12427603,\n",
       "        0.10734078],\n",
       "       [0.9107706 , 0.26022017, 0.08694158, ..., 0.10635777, 0.134468  ,\n",
       "        0.10992013]])"
      ]
     },
     "execution_count": 70,
     "metadata": {},
     "output_type": "execute_result"
    }
   ],
   "source": [
    "normalized_features = preprocessing.normalize(features) # normalizing the features \n",
    "normalized_features"
   ]
  },
  {
   "cell_type": "code",
   "execution_count": 76,
   "metadata": {},
   "outputs": [],
   "source": [
    "X_train, X_test, y_train, y_test = train_test_split(normalized_features, results, test_size=0.1, random_state=42) "
   ]
  },
  {
   "cell_type": "code",
   "execution_count": 80,
   "metadata": {},
   "outputs": [
    {
     "data": {
      "text/plain": [
       "array([[0.80411107, 0.20102777, 0.17663205, ..., 0.18843552, 0.20839176,\n",
       "        0.19533824],\n",
       "       [0.89641945, 0.17928389, 0.12058337, ..., 0.14703284, 0.17304647,\n",
       "        0.14191746],\n",
       "       [0.89968859, 0.17993772, 0.08904876, ..., 0.1265829 , 0.18595906,\n",
       "        0.13081881],\n",
       "       ...,\n",
       "       [0.91035618, 0.18207124, 0.09374434, ..., 0.13064512, 0.17545802,\n",
       "        0.12589982],\n",
       "       [0.37435806, 0.37435806, 0.16594487, ..., 0.24924446, 0.40370984,\n",
       "        0.26878662],\n",
       "       [0.91641492, 0.30547164, 0.03139138, ..., 0.06924296, 0.15198715,\n",
       "        0.06890355]])"
      ]
     },
     "execution_count": 80,
     "metadata": {},
     "output_type": "execute_result"
    }
   ],
   "source": [
    "X_train"
   ]
  },
  {
   "cell_type": "code",
   "execution_count": 81,
   "metadata": {},
   "outputs": [
    {
     "data": {
      "text/plain": [
       "array(['Control', 'Control', 'Patient', ..., 'Control', 'Control',\n",
       "       'Control'], dtype=object)"
      ]
     },
     "execution_count": 81,
     "metadata": {},
     "output_type": "execute_result"
    }
   ],
   "source": [
    "y_train"
   ]
  },
  {
   "cell_type": "code",
   "execution_count": 84,
   "metadata": {},
   "outputs": [],
   "source": [
    "accuracy = []\n",
    "for i in range(200,500,10):\n",
    "    clf = MLPClassifier(max_iter = i, hidden_layer_sizes = (500, 500), activation = 'logistic',).fit(X_train, y_train)\n",
    "    y_pred = clf.predict(X_test)\n",
    "    accuracy.append(accuracy_score(y_test, y_pred))"
   ]
  },
  {
   "cell_type": "code",
   "execution_count": 90,
   "metadata": {},
   "outputs": [
    {
     "data": {
      "image/png": "[encoded data removed]",
      "text/plain": [
       "<Figure size 432x288 with 1 Axes>"
      ]
     },
     "metadata": {
      "needs_background": "light"
     },
     "output_type": "display_data"
    }
   ],
   "source": [
    "plt.figure();\n",
    "plt.semilogy(range(200,500,10), accuracy)\n",
    "plt.xlabel(\"epochs\")\n",
    "plt.ylabel(\"Accuracy\")\n",
    "plt.show()"
   ]
  },
  {
   "cell_type": "code",
   "execution_count": 17,
   "metadata": {},
   "outputs": [
    {
     "data": {
      "text/plain": [
       "0.5248447204968945"
      ]
     },
     "execution_count": 17,
     "metadata": {},
     "output_type": "execute_result"
    }
   ],
   "source": [
    "clf_rf = RandomForestClassifier(n_estimators = 1000, min_samples_leaf = 5).fit(X_train, y_train)\n",
    "y_pred_rf = clf_rf.predict(X_test)\n",
    "accuracy_score(y_test, y_pred_rf)"
   ]
  },
  {
   "cell_type": "code",
   "execution_count": 18,
   "metadata": {},
   "outputs": [
    {
     "data": {
      "text/plain": [
       "0.515527950310559"
      ]
     },
     "execution_count": 18,
     "metadata": {},
     "output_type": "execute_result"
    }
   ],
   "source": [
    "clf_rf = RandomForestClassifier(n_estimators = 1000, min_samples_leaf = 10).fit(X_train, y_train)\n",
    "y_pred_rf = clf_rf.predict(X_test)\n",
    "accuracy_score(y_test, y_pred_rf)"
   ]
  },
  {
   "cell_type": "code",
   "execution_count": 91,
   "metadata": {},
   "outputs": [],
   "source": [
    "clf_rf = RandomForestClassifier(n_estimators = 100, min_samples_leaf = 10)\n",
    "accuracy_set = cross_val_score(clf_rf, normalized_features,results, cv =10 )"
   ]
  },
  {
   "cell_type": "code",
   "execution_count": 94,
   "metadata": {},
   "outputs": [
    {
     "data": {
      "text/plain": [
       "0.5021835877788743"
      ]
     },
     "execution_count": 94,
     "metadata": {},
     "output_type": "execute_result"
    }
   ],
   "source": [
    "accuracy_set.mean()"
   ]
  },
  {
   "cell_type": "code",
   "execution_count": 95,
   "metadata": {},
   "outputs": [],
   "source": [
    "clf_rf = RandomForestClassifier(n_estimators = 5000, min_samples_leaf = 10)\n",
    "accuracy_set = cross_val_score(clf_rf, normalized_features,results, cv =10 )"
   ]
  },
  {
   "cell_type": "code",
   "execution_count": 22,
   "metadata": {},
   "outputs": [
    {
     "data": {
      "text/plain": [
       "0.5090429751746289"
      ]
     },
     "execution_count": 22,
     "metadata": {},
     "output_type": "execute_result"
    }
   ],
   "source": [
    "accuracy_set.mean()"
   ]
  },
  {
   "cell_type": "code",
   "execution_count": 23,
   "metadata": {},
   "outputs": [],
   "source": [
    "clf_rf = RandomForestClassifier(n_estimators = 10000, min_samples_leaf = 10)\n",
    "accuracy_set = cross_val_score(clf_rf, normalized_features,results, cv =10 )"
   ]
  },
  {
   "cell_type": "code",
   "execution_count": 24,
   "metadata": {},
   "outputs": [
    {
     "data": {
      "text/plain": [
       "0.5034432383274317"
      ]
     },
     "execution_count": 24,
     "metadata": {},
     "output_type": "execute_result"
    }
   ],
   "source": [
    "accuracy_set.mean()"
   ]
  },
  {
   "cell_type": "code",
   "execution_count": 25,
   "metadata": {},
   "outputs": [],
   "source": [
    "clf = MLPClassifier(max_iter = 50, hidden_layer_sizes = (50, 50), activation = 'logistic')\n",
    "accuracy_set = cross_val_score(clf, normalized_features,results, cv =10 )"
   ]
  },
  {
   "cell_type": "code",
   "execution_count": 26,
   "metadata": {},
   "outputs": [
    {
     "data": {
      "text/plain": [
       "0.5214682378436949"
      ]
     },
     "execution_count": 26,
     "metadata": {},
     "output_type": "execute_result"
    }
   ],
   "source": [
    "accuracy_set.mean()"
   ]
  },
  {
   "cell_type": "code",
   "execution_count": 27,
   "metadata": {},
   "outputs": [],
   "source": [
    "clf = MLPClassifier(max_iter = 500, hidden_layer_sizes = (500, 500), activation = 'logistic')\n",
    "accuracy_set =cross_val_score(clf, normalized_features,results, cv =10 )"
   ]
  },
  {
   "cell_type": "code",
   "execution_count": 28,
   "metadata": {},
   "outputs": [
    {
     "data": {
      "text/plain": [
       "0.5127454964106732"
      ]
     },
     "execution_count": 28,
     "metadata": {},
     "output_type": "execute_result"
    }
   ],
   "source": [
    "accuracy_set.mean()"
   ]
  },
  {
   "cell_type": "code",
   "execution_count": 29,
   "metadata": {},
   "outputs": [],
   "source": [
    "clf = MLPClassifier(max_iter = 1000, hidden_layer_sizes = (1000, 1000), activation = 'logistic')\n",
    "accuracy_set =cross_val_score(clf, normalized_features,results, cv =10 )"
   ]
  },
  {
   "cell_type": "code",
   "execution_count": 30,
   "metadata": {},
   "outputs": [
    {
     "data": {
      "text/plain": [
       "0.5171204117567385"
      ]
     },
     "execution_count": 30,
     "metadata": {},
     "output_type": "execute_result"
    }
   ],
   "source": [
    "accuracy_set.mean()"
   ]
  },
  {
   "cell_type": "code",
   "execution_count": null,
   "metadata": {},
   "outputs": [],
   "source": []
  }
 ],
 "metadata": {
  "kernelspec": {
   "display_name": "Python 3",
   "language": "python",
   "name": "python3"
  },
  "language_info": {
   "codemirror_mode": {
    "name": "ipython",
    "version": 3
   },
   "file_extension": ".py",
   "mimetype": "text/x-python",
   "name": "python",
   "nbconvert_exporter": "python",
   "pygments_lexer": "ipython3",
   "version": "3.8.5"
  }
 },
 "nbformat": 4,
 "nbformat_minor": 5
}
